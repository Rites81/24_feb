{
 "cells": [
  {
   "cell_type": "markdown",
   "id": "42867074",
   "metadata": {},
   "source": [
    "## Q1. List any five functions of the pandas library with execution."
   ]
  },
  {
   "cell_type": "markdown",
   "id": "22be6f43",
   "metadata": {},
   "source": [
    "Yes Here are five function of the pandas library\n",
    "\n",
    "import pandas as pd\n",
    " data = {\n",
    "     'Name' : ['Ram', 'Shyam', \"Rahul\"].\n",
    "     'Age' : [24,45,23]\n",
    " }\n",
    "    \n",
    "1. Read_csv\n",
    "df.read_csv('File/index.csv')\n",
    "\n",
    "2. Head\n",
    "df.head()\n",
    "\n",
    "3.describe\n",
    "df.describe()\n",
    "\n",
    "4. Groupby\n",
    "\n",
    "gf=df.groupby('city').mean()\\\n",
    "gf\n",
    "\n",
    "\n",
    "5. merge\n",
    "data = data = {\n",
    "     'Name' : ['Ram', 'Shyam', \"Rahul\"].\n",
    "     'Age' : [24,45,23]\n",
    " }\n",
    " \n",
    "data2 = pd.dataframe(data)\n",
    "merge = pd.merge(df,data, on='city')\n",
    "merge"
   ]
  },
  {
   "cell_type": "markdown",
   "id": "d665135d",
   "metadata": {},
   "source": [
    "## Q2. Given a Pandas DataFrame df with columns 'A', 'B', and 'C', write a Python function to re-index the DataFrame with a new index that starts from 1 and increments by 2 for each row."
   ]
  },
  {
   "cell_type": "code",
   "execution_count": 7,
   "id": "8d59556d",
   "metadata": {},
   "outputs": [],
   "source": [
    "import pandas as pd\n",
    "def reindex_dataframe(df):\n",
    "    new_index = range(1,2*len(df)+1,2)\n",
    "    df.index = new_index\n",
    "    return df"
   ]
  },
  {
   "cell_type": "code",
   "execution_count": 8,
   "id": "34376080",
   "metadata": {
    "collapsed": true
   },
   "outputs": [
    {
     "data": {
      "text/html": [
       "<div>\n",
       "<style scoped>\n",
       "    .dataframe tbody tr th:only-of-type {\n",
       "        vertical-align: middle;\n",
       "    }\n",
       "\n",
       "    .dataframe tbody tr th {\n",
       "        vertical-align: top;\n",
       "    }\n",
       "\n",
       "    .dataframe thead th {\n",
       "        text-align: right;\n",
       "    }\n",
       "</style>\n",
       "<table border=\"1\" class=\"dataframe\">\n",
       "  <thead>\n",
       "    <tr style=\"text-align: right;\">\n",
       "      <th></th>\n",
       "      <th>A</th>\n",
       "      <th>B</th>\n",
       "      <th>C</th>\n",
       "    </tr>\n",
       "  </thead>\n",
       "  <tbody>\n",
       "    <tr>\n",
       "      <th>1</th>\n",
       "      <td>10</td>\n",
       "      <td>40</td>\n",
       "      <td>70</td>\n",
       "    </tr>\n",
       "    <tr>\n",
       "      <th>3</th>\n",
       "      <td>20</td>\n",
       "      <td>50</td>\n",
       "      <td>80</td>\n",
       "    </tr>\n",
       "    <tr>\n",
       "      <th>5</th>\n",
       "      <td>30</td>\n",
       "      <td>60</td>\n",
       "      <td>90</td>\n",
       "    </tr>\n",
       "  </tbody>\n",
       "</table>\n",
       "</div>"
      ],
      "text/plain": [
       "    A   B   C\n",
       "1  10  40  70\n",
       "3  20  50  80\n",
       "5  30  60  90"
      ]
     },
     "execution_count": 8,
     "metadata": {},
     "output_type": "execute_result"
    }
   ],
   "source": [
    "data = {'A': [10, 20, 30], 'B': [40, 50, 60], 'C': [70, 80, 90]}\n",
    "df = pd.DataFrame(data)\n",
    "\n",
    "\n",
    "reindexed_df = reindex_dataframe(df)\n",
    "reindexed_df"
   ]
  },
  {
   "cell_type": "markdown",
   "id": "6d050639",
   "metadata": {},
   "source": [
    "## 3. You have a Pandas DataFrame df with a column named 'Values'. Write a Python function that iterates over the DataFrame and calculates the sum of the first three values in the 'Values' column. The function should print the sum to the console."
   ]
  },
  {
   "cell_type": "code",
   "execution_count": 19,
   "id": "f5037b5b",
   "metadata": {},
   "outputs": [
    {
     "name": "stdout",
     "output_type": "stream",
     "text": [
      "The sum of the first three values in the 'Values' column is: 60\n"
     ]
    }
   ],
   "source": [
    "import pandas as pd\n",
    "\n",
    "def sum_first_three_values(df):\n",
    "    \n",
    "    if 'Values' not in df.columns:\n",
    "        print(\"The DataFrame does not contain a 'Values' column.\")\n",
    "        return\n",
    "    \n",
    "    sum_values = df['Values'].head(3).sum()\n",
    "    \n",
    "    \n",
    "    print(f\"The sum of the first three values in the 'Values' column is: {sum_values}\")\n",
    "\n",
    "\n",
    "data = {'Values': [10, 20, 30, 40, 50]}\n",
    "df = pd.DataFrame(data)\n",
    "\n",
    "\n",
    "sum_first_three_values(df)\n"
   ]
  },
  {
   "cell_type": "code",
   "execution_count": null,
   "id": "402b90cb",
   "metadata": {},
   "outputs": [],
   "source": [
    "Q4. Given a Pandas DataFrame df with a column 'Text', write a Python function to create a new column \n",
    "'Word_Count' that contains the number of words in each row of the 'Text' column."
   ]
  },
  {
   "cell_type": "code",
   "execution_count": 20,
   "id": "7787cb44",
   "metadata": {},
   "outputs": [
    {
     "data": {
      "text/html": [
       "<div>\n",
       "<style scoped>\n",
       "    .dataframe tbody tr th:only-of-type {\n",
       "        vertical-align: middle;\n",
       "    }\n",
       "\n",
       "    .dataframe tbody tr th {\n",
       "        vertical-align: top;\n",
       "    }\n",
       "\n",
       "    .dataframe thead th {\n",
       "        text-align: right;\n",
       "    }\n",
       "</style>\n",
       "<table border=\"1\" class=\"dataframe\">\n",
       "  <thead>\n",
       "    <tr style=\"text-align: right;\">\n",
       "      <th></th>\n",
       "      <th>Text</th>\n",
       "      <th>Word_Count</th>\n",
       "    </tr>\n",
       "  </thead>\n",
       "  <tbody>\n",
       "    <tr>\n",
       "      <th>0</th>\n",
       "      <td>Hello world</td>\n",
       "      <td>2</td>\n",
       "    </tr>\n",
       "    <tr>\n",
       "      <th>1</th>\n",
       "      <td>This is a test</td>\n",
       "      <td>4</td>\n",
       "    </tr>\n",
       "    <tr>\n",
       "      <th>2</th>\n",
       "      <td>Pandas is great</td>\n",
       "      <td>3</td>\n",
       "    </tr>\n",
       "  </tbody>\n",
       "</table>\n",
       "</div>"
      ],
      "text/plain": [
       "              Text  Word_Count\n",
       "0      Hello world           2\n",
       "1   This is a test           4\n",
       "2  Pandas is great           3"
      ]
     },
     "execution_count": 20,
     "metadata": {},
     "output_type": "execute_result"
    }
   ],
   "source": [
    "import pandas as pd\n",
    "\n",
    "def add_word_count_column(df):\n",
    "   \n",
    "    if 'Text' not in df.columns:\n",
    "        print(\"The DataFrame does not contain a 'Text' column.\")\n",
    "        return df\n",
    "    \n",
    "  \n",
    "    df['Word_Count'] = df['Text'].apply(lambda x: len(str(x).split()))\n",
    "    \n",
    "    return df\n",
    "\n",
    "\n",
    "data = {'Text': ['Hello world', 'This is a test', 'Pandas is great']}\n",
    "df = pd.DataFrame(data)\n",
    "\n",
    "\n",
    "df_with_word_count = add_word_count_column(df)\n",
    "df_with_word_count\n",
    "\n"
   ]
  },
  {
   "cell_type": "code",
   "execution_count": null,
   "id": "571c547c",
   "metadata": {},
   "outputs": [],
   "source": [
    "Q5. How are DataFrame.size() and DataFrame.shape() different?"
   ]
  },
  {
   "cell_type": "markdown",
   "id": "657a9577",
   "metadata": {},
   "source": [
    "#### DataFrame.size: This attribute returns the total number of elements in the DataFrame. It is equivalent to the number of rows multiplied by the number of columns.\n",
    "df.size \n",
    "\n",
    "#### DataFrame.shape: This attribute returns a tuple representing the dimensionality of the DataFrame. It returns the number of rows and the number of columns as (rows, columns)\n",
    "df.shape"
   ]
  },
  {
   "cell_type": "code",
   "execution_count": null,
   "id": "057c7599",
   "metadata": {},
   "outputs": [],
   "source": [
    "Q6. Which function of pandas do we use to read an excel file?"
   ]
  },
  {
   "cell_type": "markdown",
   "id": "5bb2f6ad",
   "metadata": {},
   "source": [
    "import pandas as pd\n",
    "\n",
    "df = pd.read_excel('path_to_file.xlsx')\n"
   ]
  },
  {
   "cell_type": "code",
   "execution_count": null,
   "id": "e2ac3451",
   "metadata": {},
   "outputs": [],
   "source": [
    "Q7. You have a Pandas DataFrame df that contains a column named 'Email' that contains email \n",
    "addresses in the format 'username@domain.com'. Write a Python function that creates a new column \n",
    "'Username' in df that contains only the username part of each email address.\n",
    "\n",
    "The username is the part of the email address that appears before the '@' symbol. For example, if the \n",
    "email address is 'john.doe@example.com', the 'Username' column should contain 'john.doe'. Your \n",
    "function should extract the username from each email address and store it in the new 'Username' \n",
    "column."
   ]
  },
  {
   "cell_type": "code",
   "execution_count": 21,
   "id": "bab0dbb9",
   "metadata": {},
   "outputs": [
    {
     "name": "stdout",
     "output_type": "stream",
     "text": [
      "                  Email    Username\n",
      "0  john.doe@example.com    john.doe\n",
      "1   jane.smith@test.com  jane.smith\n",
      "2    foo.bar@domain.org     foo.bar\n"
     ]
    }
   ],
   "source": [
    "import pandas as pd\n",
    "\n",
    "def extract_usernames(df):\n",
    "   \n",
    "    if 'Email' not in df.columns:\n",
    "        print(\"The DataFrame does not contain an 'Email' column.\")\n",
    "        return df\n",
    "    \n",
    "    \n",
    "    df['Username'] = df['Email'].apply(lambda x: x.split('@')[0])\n",
    "    \n",
    "    return df\n",
    "\n",
    "\n",
    "data = {'Email': ['john.doe@example.com', 'jane.smith@test.com', 'foo.bar@domain.org']}\n",
    "df = pd.DataFrame(data)\n",
    "\n",
    "\n",
    "df_with_usernames = extract_usernames(df)\n",
    "print(df_with_usernames)\n"
   ]
  },
  {
   "cell_type": "markdown",
   "id": "7ef7cc9f",
   "metadata": {},
   "source": [
    "### Q8. You have a Pandas DataFrame df with columns 'A', 'B', and 'C'. Write a Python function that selects all rows where the value in column 'A' is greater than 5 and the value in column 'B' is less than 10. The function should return a new DataFrame that contains only the selected rows."
   ]
  },
  {
   "cell_type": "code",
   "execution_count": 22,
   "id": "c1dafb6e",
   "metadata": {},
   "outputs": [
    {
     "name": "stdout",
     "output_type": "stream",
     "text": [
      "   A  B  C\n",
      "1  8  2  7\n",
      "2  6  9  4\n",
      "4  9  1  2\n"
     ]
    }
   ],
   "source": [
    "import pandas as pd\n",
    "\n",
    "def select_rows(df):\n",
    "    \n",
    "    selected_rows = df[(df['A'] > 5) & (df['B'] < 10)]\n",
    "    \n",
    "    return selected_rows\n",
    "\n",
    "\n",
    "data = {'A': [3, 8, 6, 2, 9], 'B': [5, 2, 9, 3, 1], 'C': [1, 7, 4, 5, 2]}\n",
    "df = pd.DataFrame(data)\n",
    "\n",
    "\n",
    "selected_df = select_rows(df)\n",
    "print(selected_df)\n"
   ]
  },
  {
   "cell_type": "code",
   "execution_count": null,
   "id": "60abe02e",
   "metadata": {},
   "outputs": [],
   "source": [
    "Q9. Given a Pandas DataFrame df with a column 'Values', write a Python function to calculate the mean, \n",
    "median, and standard deviation of the values in the 'Values' column."
   ]
  },
  {
   "cell_type": "code",
   "execution_count": 23,
   "id": "8ce723ae",
   "metadata": {},
   "outputs": [
    {
     "name": "stdout",
     "output_type": "stream",
     "text": [
      "Mean: 30.0, Median: 30.0, Standard Deviation: 15.811388300841896\n"
     ]
    }
   ],
   "source": [
    "import pandas as pd\n",
    "\n",
    "def calculate_statistics(df):\n",
    "    if 'Values' not in df.columns:\n",
    "        print(\"The DataFrame does not contain a 'Values' column.\")\n",
    "        return\n",
    "    \n",
    "    mean_value = df['Values'].mean()\n",
    "    median_value = df['Values'].median()\n",
    "    std_dev_value = df['Values'].std()\n",
    "    \n",
    "    return mean_value, median_value, std_dev_value\n",
    "\n",
    "\n",
    "data = {'Values': [10, 20, 30, 40, 50]}\n",
    "df = pd.DataFrame(data)\n",
    "\n",
    "\n",
    "mean_value, median_value, std_dev_value = calculate_statistics(df)\n",
    "print(f\"Mean: {mean_value}, Median: {median_value}, Standard Deviation: {std_dev_value}\")\n"
   ]
  },
  {
   "cell_type": "code",
   "execution_count": null,
   "id": "cdda80ec",
   "metadata": {},
   "outputs": [],
   "source": [
    "Q10. Given a Pandas DataFrame df with a column 'Sales' and a column 'Date', write a Python function to \n",
    "create a new column 'MovingAverage' that contains the moving average of the sales for the past 7 days \n",
    "for each row in the DataFrame. The moving average should be calculated using a window of size 7 and \n",
    "should include the current day.\n"
   ]
  },
  {
   "cell_type": "code",
   "execution_count": 26,
   "id": "5869bc6d",
   "metadata": {},
   "outputs": [
    {
     "name": "stdout",
     "output_type": "stream",
     "text": [
      "        Date  Sales  MovingAverage\n",
      "0 2023-01-01    100     100.000000\n",
      "1 2023-01-02    200     150.000000\n",
      "2 2023-01-03    150     150.000000\n",
      "3 2023-01-04    300     187.500000\n",
      "4 2023-01-05    250     200.000000\n",
      "5 2023-01-06    400     233.333333\n",
      "6 2023-01-07    500     271.428571\n",
      "7 2023-01-08    450     321.428571\n",
      "8 2023-01-09    350     342.857143\n",
      "9 2023-01-10    600     407.142857\n"
     ]
    }
   ],
   "source": [
    "import pandas as pd\n",
    "\n",
    "def add_moving_average(df):\n",
    "   \n",
    "    df['Date'] = pd.to_datetime(df['Date'])\n",
    "    \n",
    "    \n",
    "    df = df.sort_values(by='Date')\n",
    "    \n",
    "    \n",
    "    df['MovingAverage'] = df['Sales'].rolling(window=7, min_periods=1).mean()\n",
    "    \n",
    "    return df\n",
    "\n",
    "\n",
    "data = {'Date': pd.date_range(start='2023-01-01', periods=10), 'Sales': [100, 200, 150, 300, 250, 400, 500, 450, 350, 600]}\n",
    "df = pd.DataFrame(data)\n",
    "\n",
    "\n",
    "df_with_moving_average = add_moving_average(df)\n",
    "print(df_with_moving_average)\n"
   ]
  },
  {
   "cell_type": "markdown",
   "id": "6bf75501",
   "metadata": {},
   "source": [
    "Q11. You have a Pandas DataFrame df with a column 'Date'. Write a Python function that creates a new \n",
    "column 'Weekday' in the DataFrame. The 'Weekday' column should contain the weekday name (e.g. \n",
    "Monday, Tuesday) corresponding to each date in the 'Date' column"
   ]
  },
  {
   "cell_type": "code",
   "execution_count": 28,
   "id": "a02b9e2d",
   "metadata": {},
   "outputs": [
    {
     "name": "stdout",
     "output_type": "stream",
     "text": [
      "        Date    Weekday\n",
      "0 2023-01-01     Sunday\n",
      "1 2023-01-02     Monday\n",
      "2 2023-01-03    Tuesday\n",
      "3 2023-01-04  Wednesday\n",
      "4 2023-01-05   Thursday\n"
     ]
    }
   ],
   "source": [
    "import pandas as pd\n",
    "\n",
    "def add_weekday_column(df):\n",
    "   \n",
    "    df['Date'] = pd.to_datetime(df['Date'])\n",
    "    \n",
    "   \n",
    "    df['Weekday'] = df['Date'].dt.day_name()\n",
    "    \n",
    "    return df\n",
    "\n",
    "data = {'Date': pd.date_range(start='2023-01-01', periods=5)}\n",
    "df = pd.DataFrame(data)\n",
    "\n",
    "\n",
    "df_with_weekday = add_weekday_column(df)\n",
    "print(df_with_weekday)\n"
   ]
  },
  {
   "cell_type": "markdown",
   "id": "4777cad4",
   "metadata": {},
   "source": [
    "Q12. Given a Pandas DataFrame df with a column 'Date' that contains timestamps, write a Python function to select all rows where the date is between '2023-01-01' and '2023-01-31'."
   ]
  },
  {
   "cell_type": "code",
   "execution_count": 25,
   "id": "242b5216",
   "metadata": {},
   "outputs": [
    {
     "name": "stdout",
     "output_type": "stream",
     "text": [
      "         Date\n",
      "0  2023-01-01\n",
      "1  2023-01-02\n",
      "2  2023-01-03\n",
      "3  2023-01-04\n",
      "4  2023-01-05\n",
      "5  2023-01-06\n",
      "6  2023-01-07\n",
      "7  2023-01-08\n",
      "8  2023-01-09\n",
      "9  2023-01-10\n",
      "10 2023-01-11\n",
      "11 2023-01-12\n",
      "12 2023-01-13\n",
      "13 2023-01-14\n",
      "14 2023-01-15\n",
      "15 2023-01-16\n",
      "16 2023-01-17\n",
      "17 2023-01-18\n",
      "18 2023-01-19\n",
      "19 2023-01-20\n",
      "20 2023-01-21\n",
      "21 2023-01-22\n",
      "22 2023-01-23\n",
      "23 2023-01-24\n",
      "24 2023-01-25\n",
      "25 2023-01-26\n",
      "26 2023-01-27\n",
      "27 2023-01-28\n",
      "28 2023-01-29\n",
      "29 2023-01-30\n",
      "30 2023-01-31\n"
     ]
    }
   ],
   "source": [
    "import pandas as pd\n",
    "\n",
    "def select_date_range(df):\n",
    "\n",
    "    df['Date'] = pd.to_datetime(df['Date'])\n",
    "    \n",
    "   \n",
    "    selected_rows = df[(df['Date'] >= '2023-01-01') & (df['Date'] <= '2023-01-31')]\n",
    "    \n",
    "    return selected_rows\n",
    "\n",
    "\n",
    "data = {'Date': pd.date_range(start='2023-01-01', end='2023-02-10')}\n",
    "df = pd.DataFrame(data)\n",
    "\n",
    "\n",
    "selected_df = select_date_range(df)\n",
    "print(selected_df)\n"
   ]
  },
  {
   "cell_type": "code",
   "execution_count": null,
   "id": "ace2beb3",
   "metadata": {},
   "outputs": [],
   "source": [
    "Q13. To use the basic functions of pandas, what is the first and foremost necessary library that needs to \n",
    "be imported?"
   ]
  },
  {
   "cell_type": "code",
   "execution_count": 24,
   "id": "6734e262",
   "metadata": {},
   "outputs": [],
   "source": [
    "import pandas as pd"
   ]
  },
  {
   "cell_type": "code",
   "execution_count": null,
   "id": "91152848",
   "metadata": {},
   "outputs": [],
   "source": []
  }
 ],
 "metadata": {
  "kernelspec": {
   "display_name": "Python 3 (ipykernel)",
   "language": "python",
   "name": "python3"
  },
  "language_info": {
   "codemirror_mode": {
    "name": "ipython",
    "version": 3
   },
   "file_extension": ".py",
   "mimetype": "text/x-python",
   "name": "python",
   "nbconvert_exporter": "python",
   "pygments_lexer": "ipython3",
   "version": "3.10.10"
  }
 },
 "nbformat": 4,
 "nbformat_minor": 5
}
